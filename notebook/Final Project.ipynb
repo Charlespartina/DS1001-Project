{
 "cells": [
  {
   "cell_type": "markdown",
   "metadata": {},
   "source": [
    "# Notebook for Final Project"
   ]
  },
  {
   "cell_type": "markdown",
   "metadata": {},
   "source": [
    "## Package Import"
   ]
  },
  {
   "cell_type": "code",
   "execution_count": 1,
   "metadata": {
    "collapsed": true
   },
   "outputs": [],
   "source": [
    "# Basic\n",
    "import numpy as np # linear algebra\n",
    "import scipy as sp\n",
    "import pandas as pd # data processing, CSV file I/O (e.g. pd.read_csv)\n",
    "\n",
    "# Plot\n",
    "import matplotlib.pyplot as plt\n",
    "import seaborn as sns"
   ]
  },
  {
   "cell_type": "markdown",
   "metadata": {},
   "source": [
    "## Data Exploration and Preprocessing"
   ]
  },
  {
   "cell_type": "markdown",
   "metadata": {},
   "source": [
    "Read data and look at the variables we have"
   ]
  },
  {
   "cell_type": "code",
   "execution_count": 2,
   "metadata": {
    "collapsed": false
   },
   "outputs": [],
   "source": [
    "# Import Data\n",
    "df = pd.read_json(\"../data/train.json\")"
   ]
  },
  {
   "cell_type": "code",
   "execution_count": 3,
   "metadata": {
    "collapsed": false
   },
   "outputs": [
    {
     "name": "stdout",
     "output_type": "stream",
     "text": [
      "(49352, 15)\n"
     ]
    }
   ],
   "source": [
    "print df.shape"
   ]
  },
  {
   "cell_type": "code",
   "execution_count": 4,
   "metadata": {
    "collapsed": false
   },
   "outputs": [
    {
     "data": {
      "text/html": [
       "<div>\n",
       "<table border=\"1\" class=\"dataframe\">\n",
       "  <thead>\n",
       "    <tr style=\"text-align: right;\">\n",
       "      <th></th>\n",
       "      <th>bathrooms</th>\n",
       "      <th>bedrooms</th>\n",
       "      <th>building_id</th>\n",
       "      <th>created</th>\n",
       "      <th>description</th>\n",
       "      <th>display_address</th>\n",
       "      <th>features</th>\n",
       "      <th>interest_level</th>\n",
       "      <th>latitude</th>\n",
       "      <th>listing_id</th>\n",
       "      <th>longitude</th>\n",
       "      <th>manager_id</th>\n",
       "      <th>photos</th>\n",
       "      <th>price</th>\n",
       "      <th>street_address</th>\n",
       "    </tr>\n",
       "  </thead>\n",
       "  <tbody>\n",
       "    <tr>\n",
       "      <th>10</th>\n",
       "      <td>1.5</td>\n",
       "      <td>3</td>\n",
       "      <td>53a5b119ba8f7b61d4e010512e0dfc85</td>\n",
       "      <td>2016-06-24 07:54:24</td>\n",
       "      <td>A Brand New 3 Bedroom 1.5 bath ApartmentEnjoy ...</td>\n",
       "      <td>Metropolitan Avenue</td>\n",
       "      <td>[]</td>\n",
       "      <td>medium</td>\n",
       "      <td>40.7145</td>\n",
       "      <td>7211212</td>\n",
       "      <td>-73.9425</td>\n",
       "      <td>5ba989232d0489da1b5f2c45f6688adc</td>\n",
       "      <td>[https://photos.renthop.com/2/7211212_1ed4542e...</td>\n",
       "      <td>3000</td>\n",
       "      <td>792 Metropolitan Avenue</td>\n",
       "    </tr>\n",
       "    <tr>\n",
       "      <th>10000</th>\n",
       "      <td>1.0</td>\n",
       "      <td>2</td>\n",
       "      <td>c5c8a357cba207596b04d1afd1e4f130</td>\n",
       "      <td>2016-06-12 12:19:27</td>\n",
       "      <td></td>\n",
       "      <td>Columbus Avenue</td>\n",
       "      <td>[Doorman, Elevator, Fitness Center, Cats Allow...</td>\n",
       "      <td>low</td>\n",
       "      <td>40.7947</td>\n",
       "      <td>7150865</td>\n",
       "      <td>-73.9667</td>\n",
       "      <td>7533621a882f71e25173b27e3139d83d</td>\n",
       "      <td>[https://photos.renthop.com/2/7150865_be3306c5...</td>\n",
       "      <td>5465</td>\n",
       "      <td>808 Columbus Avenue</td>\n",
       "    </tr>\n",
       "    <tr>\n",
       "      <th>100004</th>\n",
       "      <td>1.0</td>\n",
       "      <td>1</td>\n",
       "      <td>c3ba40552e2120b0acfc3cb5730bb2aa</td>\n",
       "      <td>2016-04-17 03:26:41</td>\n",
       "      <td>Top Top West Village location, beautiful Pre-w...</td>\n",
       "      <td>W 13 Street</td>\n",
       "      <td>[Laundry In Building, Dishwasher, Hardwood Flo...</td>\n",
       "      <td>high</td>\n",
       "      <td>40.7388</td>\n",
       "      <td>6887163</td>\n",
       "      <td>-74.0018</td>\n",
       "      <td>d9039c43983f6e564b1482b273bd7b01</td>\n",
       "      <td>[https://photos.renthop.com/2/6887163_de85c427...</td>\n",
       "      <td>2850</td>\n",
       "      <td>241 W 13 Street</td>\n",
       "    </tr>\n",
       "    <tr>\n",
       "      <th>100007</th>\n",
       "      <td>1.0</td>\n",
       "      <td>1</td>\n",
       "      <td>28d9ad350afeaab8027513a3e52ac8d5</td>\n",
       "      <td>2016-04-18 02:22:02</td>\n",
       "      <td>Building Amenities - Garage - Garden - fitness...</td>\n",
       "      <td>East 49th Street</td>\n",
       "      <td>[Hardwood Floors, No Fee]</td>\n",
       "      <td>low</td>\n",
       "      <td>40.7539</td>\n",
       "      <td>6888711</td>\n",
       "      <td>-73.9677</td>\n",
       "      <td>1067e078446a7897d2da493d2f741316</td>\n",
       "      <td>[https://photos.renthop.com/2/6888711_6e660cee...</td>\n",
       "      <td>3275</td>\n",
       "      <td>333 East 49th Street</td>\n",
       "    </tr>\n",
       "    <tr>\n",
       "      <th>100013</th>\n",
       "      <td>1.0</td>\n",
       "      <td>4</td>\n",
       "      <td>0</td>\n",
       "      <td>2016-04-28 01:32:41</td>\n",
       "      <td>Beautifully renovated 3 bedroom flex 4 bedroom...</td>\n",
       "      <td>West 143rd Street</td>\n",
       "      <td>[Pre-War]</td>\n",
       "      <td>low</td>\n",
       "      <td>40.8241</td>\n",
       "      <td>6934781</td>\n",
       "      <td>-73.9493</td>\n",
       "      <td>98e13ad4b495b9613cef886d79a6291f</td>\n",
       "      <td>[https://photos.renthop.com/2/6934781_1fa4b41a...</td>\n",
       "      <td>3350</td>\n",
       "      <td>500 West 143rd Street</td>\n",
       "    </tr>\n",
       "  </tbody>\n",
       "</table>\n",
       "</div>"
      ],
      "text/plain": [
       "        bathrooms  bedrooms                       building_id  \\\n",
       "10            1.5         3  53a5b119ba8f7b61d4e010512e0dfc85   \n",
       "10000         1.0         2  c5c8a357cba207596b04d1afd1e4f130   \n",
       "100004        1.0         1  c3ba40552e2120b0acfc3cb5730bb2aa   \n",
       "100007        1.0         1  28d9ad350afeaab8027513a3e52ac8d5   \n",
       "100013        1.0         4                                 0   \n",
       "\n",
       "                    created  \\\n",
       "10      2016-06-24 07:54:24   \n",
       "10000   2016-06-12 12:19:27   \n",
       "100004  2016-04-17 03:26:41   \n",
       "100007  2016-04-18 02:22:02   \n",
       "100013  2016-04-28 01:32:41   \n",
       "\n",
       "                                              description  \\\n",
       "10      A Brand New 3 Bedroom 1.5 bath ApartmentEnjoy ...   \n",
       "10000                                                       \n",
       "100004  Top Top West Village location, beautiful Pre-w...   \n",
       "100007  Building Amenities - Garage - Garden - fitness...   \n",
       "100013  Beautifully renovated 3 bedroom flex 4 bedroom...   \n",
       "\n",
       "            display_address  \\\n",
       "10      Metropolitan Avenue   \n",
       "10000       Columbus Avenue   \n",
       "100004          W 13 Street   \n",
       "100007     East 49th Street   \n",
       "100013    West 143rd Street   \n",
       "\n",
       "                                                 features interest_level  \\\n",
       "10                                                     []         medium   \n",
       "10000   [Doorman, Elevator, Fitness Center, Cats Allow...            low   \n",
       "100004  [Laundry In Building, Dishwasher, Hardwood Flo...           high   \n",
       "100007                          [Hardwood Floors, No Fee]            low   \n",
       "100013                                          [Pre-War]            low   \n",
       "\n",
       "        latitude  listing_id  longitude                        manager_id  \\\n",
       "10       40.7145     7211212   -73.9425  5ba989232d0489da1b5f2c45f6688adc   \n",
       "10000    40.7947     7150865   -73.9667  7533621a882f71e25173b27e3139d83d   \n",
       "100004   40.7388     6887163   -74.0018  d9039c43983f6e564b1482b273bd7b01   \n",
       "100007   40.7539     6888711   -73.9677  1067e078446a7897d2da493d2f741316   \n",
       "100013   40.8241     6934781   -73.9493  98e13ad4b495b9613cef886d79a6291f   \n",
       "\n",
       "                                                   photos  price  \\\n",
       "10      [https://photos.renthop.com/2/7211212_1ed4542e...   3000   \n",
       "10000   [https://photos.renthop.com/2/7150865_be3306c5...   5465   \n",
       "100004  [https://photos.renthop.com/2/6887163_de85c427...   2850   \n",
       "100007  [https://photos.renthop.com/2/6888711_6e660cee...   3275   \n",
       "100013  [https://photos.renthop.com/2/6934781_1fa4b41a...   3350   \n",
       "\n",
       "                 street_address  \n",
       "10      792 Metropolitan Avenue  \n",
       "10000       808 Columbus Avenue  \n",
       "100004          241 W 13 Street  \n",
       "100007     333 East 49th Street  \n",
       "100013    500 West 143rd Street  "
      ]
     },
     "execution_count": 4,
     "metadata": {},
     "output_type": "execute_result"
    }
   ],
   "source": [
    "# Look at the first few rows\n",
    "df.head()"
   ]
  },
  {
   "cell_type": "markdown",
   "metadata": {},
   "source": [
    "## Split Training Set and Test Set"
   ]
  },
  {
   "cell_type": "markdown",
   "metadata": {},
   "source": [
    "We are spliting the available data into training set and test set"
   ]
  },
  {
   "cell_type": "code",
   "execution_count": 5,
   "metadata": {
    "collapsed": true
   },
   "outputs": [],
   "source": [
    "df_y = df[['price']]\n",
    "df_X = df.drop('price',axis=1)"
   ]
  },
  {
   "cell_type": "code",
   "execution_count": 6,
   "metadata": {
    "collapsed": false
   },
   "outputs": [
    {
     "name": "stdout",
     "output_type": "stream",
     "text": [
      "(39481, 14) (9871, 14) (39481, 1) (9871, 1)\n"
     ]
    }
   ],
   "source": [
    "from sklearn.model_selection import train_test_split\n",
    "X_train, X_test, y_train, y_test = train_test_split(df_X, df_y, test_size=0.2, random_state=0)\n",
    "print X_train.shape, X_test.shape, y_train.shape, y_test.shape"
   ]
  },
  {
   "cell_type": "markdown",
   "metadata": {},
   "source": [
    "## Training Data Manipulation"
   ]
  },
  {
   "cell_type": "markdown",
   "metadata": {},
   "source": [
    "From now on, we use the training data for modeling and validation."
   ]
  },
  {
   "cell_type": "markdown",
   "metadata": {},
   "source": [
    "Select Numeric Data"
   ]
  },
  {
   "cell_type": "code",
   "execution_count": 7,
   "metadata": {
    "collapsed": false
   },
   "outputs": [
    {
     "data": {
      "text/html": [
       "<div>\n",
       "<table border=\"1\" class=\"dataframe\">\n",
       "  <thead>\n",
       "    <tr style=\"text-align: right;\">\n",
       "      <th></th>\n",
       "      <th>bathrooms</th>\n",
       "      <th>bedrooms</th>\n",
       "      <th>latitude</th>\n",
       "      <th>listing_id</th>\n",
       "      <th>longitude</th>\n",
       "    </tr>\n",
       "  </thead>\n",
       "  <tbody>\n",
       "    <tr>\n",
       "      <th>100514</th>\n",
       "      <td>1.0</td>\n",
       "      <td>2</td>\n",
       "      <td>40.7080</td>\n",
       "      <td>6861664</td>\n",
       "      <td>-74.0149</td>\n",
       "    </tr>\n",
       "    <tr>\n",
       "      <th>42844</th>\n",
       "      <td>1.0</td>\n",
       "      <td>1</td>\n",
       "      <td>40.7289</td>\n",
       "      <td>7115500</td>\n",
       "      <td>-74.0029</td>\n",
       "    </tr>\n",
       "    <tr>\n",
       "      <th>37508</th>\n",
       "      <td>1.0</td>\n",
       "      <td>0</td>\n",
       "      <td>40.7347</td>\n",
       "      <td>7153691</td>\n",
       "      <td>-74.0013</td>\n",
       "    </tr>\n",
       "    <tr>\n",
       "      <th>70450</th>\n",
       "      <td>1.0</td>\n",
       "      <td>0</td>\n",
       "      <td>40.7911</td>\n",
       "      <td>6996200</td>\n",
       "      <td>-73.9735</td>\n",
       "    </tr>\n",
       "    <tr>\n",
       "      <th>110961</th>\n",
       "      <td>2.0</td>\n",
       "      <td>2</td>\n",
       "      <td>40.7592</td>\n",
       "      <td>6862280</td>\n",
       "      <td>-73.9948</td>\n",
       "    </tr>\n",
       "  </tbody>\n",
       "</table>\n",
       "</div>"
      ],
      "text/plain": [
       "        bathrooms  bedrooms  latitude  listing_id  longitude\n",
       "100514        1.0         2   40.7080     6861664   -74.0149\n",
       "42844         1.0         1   40.7289     7115500   -74.0029\n",
       "37508         1.0         0   40.7347     7153691   -74.0013\n",
       "70450         1.0         0   40.7911     6996200   -73.9735\n",
       "110961        2.0         2   40.7592     6862280   -73.9948"
      ]
     },
     "execution_count": 7,
     "metadata": {},
     "output_type": "execute_result"
    }
   ],
   "source": [
    "numerics = ['int16', 'int32', 'int64', 'float16', 'float32', 'float64']\n",
    "X_train_numeric = X_train.select_dtypes(include=numerics)\n",
    "X_train_numeric.head()"
   ]
  },
  {
   "cell_type": "markdown",
   "metadata": {},
   "source": [
    "Select Text Data"
   ]
  },
  {
   "cell_type": "code",
   "execution_count": 8,
   "metadata": {
    "collapsed": false
   },
   "outputs": [
    {
     "data": {
      "text/html": [
       "<div>\n",
       "<table border=\"1\" class=\"dataframe\">\n",
       "  <thead>\n",
       "    <tr style=\"text-align: right;\">\n",
       "      <th></th>\n",
       "      <th>building_id</th>\n",
       "      <th>created</th>\n",
       "      <th>description</th>\n",
       "      <th>display_address</th>\n",
       "      <th>features</th>\n",
       "      <th>interest_level</th>\n",
       "      <th>manager_id</th>\n",
       "      <th>photos</th>\n",
       "      <th>street_address</th>\n",
       "    </tr>\n",
       "  </thead>\n",
       "  <tbody>\n",
       "    <tr>\n",
       "      <th>100514</th>\n",
       "      <td>bb8658a3e432fb62a440615333376345</td>\n",
       "      <td>2016-04-12 06:01:01</td>\n",
       "      <td>Building Characteristics:Twenty-four hour conc...</td>\n",
       "      <td>Washington Place</td>\n",
       "      <td>[Doorman, Fitness Center, Laundry in Unit, Dis...</td>\n",
       "      <td>low</td>\n",
       "      <td>92aa3b535f48ec05903a3b7fcdafd411</td>\n",
       "      <td>[https://photos.renthop.com/2/6861664_28951e60...</td>\n",
       "      <td>90 Washington Place</td>\n",
       "    </tr>\n",
       "    <tr>\n",
       "      <th>42844</th>\n",
       "      <td>5855d5dfcaca9da6cacb1f389fd383bd</td>\n",
       "      <td>2016-06-06 02:52:14</td>\n",
       "      <td>Perfect for NYU StudentsGreat 1 bedroom in PRI...</td>\n",
       "      <td>West Houston</td>\n",
       "      <td>[Hardwood Floors]</td>\n",
       "      <td>low</td>\n",
       "      <td>aea47aba66a01cf236746e209c2b7f88</td>\n",
       "      <td>[https://photos.renthop.com/2/7115500_ac16766c...</td>\n",
       "      <td>176 West Houston</td>\n",
       "    </tr>\n",
       "    <tr>\n",
       "      <th>37508</th>\n",
       "      <td>0</td>\n",
       "      <td>2016-06-13 01:18:15</td>\n",
       "      <td>This apartment is located in a walk up buildin...</td>\n",
       "      <td>Waverly Place</td>\n",
       "      <td>[Fireplace, Pre-War, Dogs Allowed, Cats Allowed]</td>\n",
       "      <td>low</td>\n",
       "      <td>8b53ccf4338806ab1be3dd0267711649</td>\n",
       "      <td>[https://photos.renthop.com/2/7153691_ceaef03e...</td>\n",
       "      <td>189 Waverly Place</td>\n",
       "    </tr>\n",
       "    <tr>\n",
       "      <th>70450</th>\n",
       "      <td>b491b11c7eafd39aabdb9a9f0acf88b8</td>\n",
       "      <td>2016-05-11 05:29:34</td>\n",
       "      <td>Spacious Studio in a Full Service BLDGApartmen...</td>\n",
       "      <td>West 91st Street</td>\n",
       "      <td>[Roof Deck, Doorman, Laundry in Building, High...</td>\n",
       "      <td>low</td>\n",
       "      <td>8600370dac7555a25d417e7f2dab6d1b</td>\n",
       "      <td>[https://photos.renthop.com/2/6996200_be863639...</td>\n",
       "      <td>212 West 91st Street</td>\n",
       "    </tr>\n",
       "    <tr>\n",
       "      <th>110961</th>\n",
       "      <td>0</td>\n",
       "      <td>2016-04-12 06:19:32</td>\n",
       "      <td>Located in prime Midtown West/Clinton area, co...</td>\n",
       "      <td>West 42nd Street</td>\n",
       "      <td>[Swimming Pool, Roof Deck, Dining Room, Doorma...</td>\n",
       "      <td>low</td>\n",
       "      <td>8262449f40e9117f7a9ea49b4a333993</td>\n",
       "      <td>[https://photos.renthop.com/2/6862280_c9d26202...</td>\n",
       "      <td>450 West 42nd Street</td>\n",
       "    </tr>\n",
       "  </tbody>\n",
       "</table>\n",
       "</div>"
      ],
      "text/plain": [
       "                             building_id              created  \\\n",
       "100514  bb8658a3e432fb62a440615333376345  2016-04-12 06:01:01   \n",
       "42844   5855d5dfcaca9da6cacb1f389fd383bd  2016-06-06 02:52:14   \n",
       "37508                                  0  2016-06-13 01:18:15   \n",
       "70450   b491b11c7eafd39aabdb9a9f0acf88b8  2016-05-11 05:29:34   \n",
       "110961                                 0  2016-04-12 06:19:32   \n",
       "\n",
       "                                              description   display_address  \\\n",
       "100514  Building Characteristics:Twenty-four hour conc...  Washington Place   \n",
       "42844   Perfect for NYU StudentsGreat 1 bedroom in PRI...      West Houston   \n",
       "37508   This apartment is located in a walk up buildin...     Waverly Place   \n",
       "70450   Spacious Studio in a Full Service BLDGApartmen...  West 91st Street   \n",
       "110961  Located in prime Midtown West/Clinton area, co...  West 42nd Street   \n",
       "\n",
       "                                                 features interest_level  \\\n",
       "100514  [Doorman, Fitness Center, Laundry in Unit, Dis...            low   \n",
       "42844                                   [Hardwood Floors]            low   \n",
       "37508    [Fireplace, Pre-War, Dogs Allowed, Cats Allowed]            low   \n",
       "70450   [Roof Deck, Doorman, Laundry in Building, High...            low   \n",
       "110961  [Swimming Pool, Roof Deck, Dining Room, Doorma...            low   \n",
       "\n",
       "                              manager_id  \\\n",
       "100514  92aa3b535f48ec05903a3b7fcdafd411   \n",
       "42844   aea47aba66a01cf236746e209c2b7f88   \n",
       "37508   8b53ccf4338806ab1be3dd0267711649   \n",
       "70450   8600370dac7555a25d417e7f2dab6d1b   \n",
       "110961  8262449f40e9117f7a9ea49b4a333993   \n",
       "\n",
       "                                                   photos  \\\n",
       "100514  [https://photos.renthop.com/2/6861664_28951e60...   \n",
       "42844   [https://photos.renthop.com/2/7115500_ac16766c...   \n",
       "37508   [https://photos.renthop.com/2/7153691_ceaef03e...   \n",
       "70450   [https://photos.renthop.com/2/6996200_be863639...   \n",
       "110961  [https://photos.renthop.com/2/6862280_c9d26202...   \n",
       "\n",
       "              street_address  \n",
       "100514   90 Washington Place  \n",
       "42844       176 West Houston  \n",
       "37508      189 Waverly Place  \n",
       "70450   212 West 91st Street  \n",
       "110961  450 West 42nd Street  "
      ]
     },
     "execution_count": 8,
     "metadata": {},
     "output_type": "execute_result"
    }
   ],
   "source": [
    "X_train_string = X_train.select_dtypes(include=['object'])\n",
    "X_train_string.head()"
   ]
  },
  {
   "cell_type": "markdown",
   "metadata": {},
   "source": [
    "## Feature Extraction"
   ]
  },
  {
   "cell_type": "markdown",
   "metadata": {},
   "source": [
    "Here we can create some new features derived from original features"
   ]
  },
  {
   "cell_type": "code",
   "execution_count": null,
   "metadata": {
    "collapsed": true
   },
   "outputs": [],
   "source": []
  },
  {
   "cell_type": "markdown",
   "metadata": {},
   "source": [
    "## Construct X and y"
   ]
  },
  {
   "cell_type": "code",
   "execution_count": 10,
   "metadata": {
    "collapsed": false
   },
   "outputs": [
    {
     "name": "stdout",
     "output_type": "stream",
     "text": [
      "(39481, 5) (39481, 1)\n"
     ]
    }
   ],
   "source": [
    "X = X_train_numeric.values # Use numeric data as features\n",
    "y = y_train.values # Target Variable: price\n",
    "print X.shape, y.shape"
   ]
  },
  {
   "cell_type": "markdown",
   "metadata": {},
   "source": [
    "## Feature Selection"
   ]
  },
  {
   "cell_type": "markdown",
   "metadata": {},
   "source": [
    "To select numeric features, we have several choices:\n",
    "1. Embeded Method: We can use some linear models penalized with the L1 norm to make unimportant features has coefficient of zero.\n",
    "2. Filter Method: Preprocess the features by using F-test, Correlation Matrix, etc.\n",
    "3. Wrapper Method: Run model on subsets and score them"
   ]
  },
  {
   "cell_type": "markdown",
   "metadata": {},
   "source": [
    "I've tried the RFECV method, but takes too much time"
   ]
  },
  {
   "cell_type": "code",
   "execution_count": 12,
   "metadata": {
    "collapsed": false
   },
   "outputs": [
    {
     "name": "stdout",
     "output_type": "stream",
     "text": [
      "(39481, 2)\n",
      "[ True  True False False False]\n"
     ]
    }
   ],
   "source": [
    "# Embeded Method: Lasso \n",
    "# Reference: Wikipedia-Feature Selection\n",
    "from sklearn.feature_selection import RFECV\n",
    "from sklearn.linear_model import Lasso\n",
    "from sklearn.feature_selection import SelectFromModel\n",
    "estimator = Lasso()\n",
    "estimator.fit(X,y)\n",
    "selector = SelectFromModel(estimator, prefit=True, threshold=0.25)\n",
    "X_new = selector.transform(X)\n",
    "# n_features indicates the number of features we want\n",
    "n_features = X_new.shape[1]\n",
    "while n_features > 2:\n",
    "    selector.threshold += 0.1\n",
    "    X_new = selector.transform(X)\n",
    "    n_features = X_new.shape[1]\n",
    "print X_new.shape\n",
    "print selector.get_support() # We can see that only the first two features \"bedroom\", \"bathroom\" remains"
   ]
  },
  {
   "cell_type": "markdown",
   "metadata": {},
   "source": [
    "# Modeling"
   ]
  },
  {
   "cell_type": "markdown",
   "metadata": {},
   "source": [
    "### Simplest Model: Linear Regression with L1-Regularization"
   ]
  },
  {
   "cell_type": "code",
   "execution_count": 85,
   "metadata": {
    "collapsed": false
   },
   "outputs": [
    {
     "data": {
      "text/plain": [
       "Lasso(alpha=0.1, copy_X=True, fit_intercept=True, max_iter=1000,\n",
       "   normalize=False, positive=False, precompute=False, random_state=None,\n",
       "   selection='cyclic', tol=0.0001, warm_start=False)"
      ]
     },
     "execution_count": 85,
     "metadata": {},
     "output_type": "execute_result"
    }
   ],
   "source": [
    "# Import models\n",
    "ls =Lasso(alpha=0.1)\n",
    "ls.fit(X, y)"
   ]
  },
  {
   "cell_type": "markdown",
   "metadata": {},
   "source": [
    "### Cross Validation"
   ]
  },
  {
   "cell_type": "code",
   "execution_count": 86,
   "metadata": {
    "collapsed": false
   },
   "outputs": [
    {
     "data": {
      "image/png": "[encoded data removed]",
      "text/plain": [
       "<matplotlib.figure.Figure at 0x11adc6d50>"
      ]
     },
     "metadata": {},
     "output_type": "display_data"
    }
   ],
   "source": [
    "from sklearn.model_selection import cross_val_score\n",
    "scores = cross_val_score(ls, X, y, cv=10)\n",
    "plt.bar(np.arange(1,11), scores)\n",
    "plt.title('Cross Validation Score for Lasso Model')\n",
    "plt.xlim(1,11)\n",
    "plt.ylim(0,1)\n",
    "plt.show()"
   ]
  },
  {
   "cell_type": "markdown",
   "metadata": {},
   "source": [
    "The performance of this model is very ugly because we haven't do any model selection and feature engineering"
   ]
  },
  {
   "cell_type": "markdown",
   "metadata": {},
   "source": [
    "## Evaluation"
   ]
  },
  {
   "cell_type": "markdown",
   "metadata": {},
   "source": [
    "## Deployment"
   ]
  }
 ],
 "metadata": {
  "anaconda-cloud": {},
  "kernelspec": {
   "display_name": "Python [conda root]",
   "language": "python",
   "name": "conda-root-py"
  },
  "language_info": {
   "codemirror_mode": {
    "name": "ipython",
    "version": 2
   },
   "file_extension": ".py",
   "mimetype": "text/x-python",
   "name": "python",
   "nbconvert_exporter": "python",
   "pygments_lexer": "ipython2",
   "version": "2.7.12"
  }
 },
 "nbformat": 4,
 "nbformat_minor": 1
}
